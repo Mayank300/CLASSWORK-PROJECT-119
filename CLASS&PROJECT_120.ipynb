{
  "nbformat": 4,
  "nbformat_minor": 0,
  "metadata": {
    "colab": {
      "name": "CLASS&PROJECT-120.ipynb",
      "provenance": [],
      "authorship_tag": "ABX9TyOOlv130KyIvy5+7WAtuu6C",
      "include_colab_link": true
    },
    "kernelspec": {
      "name": "python3",
      "display_name": "Python 3"
    },
    "language_info": {
      "name": "python"
    }
  },
  "cells": [
    {
      "cell_type": "markdown",
      "metadata": {
        "id": "view-in-github",
        "colab_type": "text"
      },
      "source": [
        "<a href=\"https://colab.research.google.com/github/Mayank300/CLASSWORK-PROJECT-120/blob/main/CLASS%26PROJECT_120.ipynb\" target=\"_parent\"><img src=\"https://colab.research.google.com/assets/colab-badge.svg\" alt=\"Open In Colab\"/></a>"
      ]
    },
    {
      "cell_type": "code",
      "metadata": {
        "colab": {
          "base_uri": "https://localhost:8080/"
        },
        "id": "eSFJ-clXa0Cr",
        "outputId": "c5cea5d7-b828-4c9b-8e75-f8f823cd9712"
      },
      "source": [
        "import pandas as pd\n",
        "\n",
        "data = pd.read_csv('https://raw.githubusercontent.com/whitehatjr/datasets/master/C120/income.csv')\n",
        "\n",
        "print(data.head())"
      ],
      "execution_count": null,
      "outputs": [
        {
          "output_type": "stream",
          "text": [
            "   age          workclass  ...  native-country  income\n",
            "0   39          State-gov  ...   United-States   <=50K\n",
            "1   50   Self-emp-not-inc  ...   United-States   <=50K\n",
            "2   38            Private  ...   United-States   <=50K\n",
            "3   53            Private  ...   United-States   <=50K\n",
            "4   28            Private  ...            Cuba   <=50K\n",
            "\n",
            "[5 rows x 14 columns]\n"
          ],
          "name": "stdout"
        }
      ]
    },
    {
      "cell_type": "code",
      "metadata": {
        "id": "OVey7gKResu7"
      },
      "source": [
        "from sklearn.model_selection import train_test_split\n",
        "\n",
        "X = data[['age', 'hours-per-week', 'education-num', 'capital-gain', 'capital-loss']]\n",
        "Y = data['income']\n",
        "\n",
        "X_train, X_test, Y_train, Y_test = train_test_split(X,Y, test_size=0.25, random_state=42)\n",
        "\n"
      ],
      "execution_count": null,
      "outputs": []
    },
    {
      "cell_type": "code",
      "metadata": {
        "id": "9-i6ANyogVir"
      },
      "source": [
        "from sklearn.naive_bayes import GaussianNB\n",
        "from sklearn import metrics\n",
        "from sklearn.preprocessing import StandardScaler\n",
        "\n",
        "sc = StandardScaler()\n",
        "\n",
        "X_train = sc.fit_transform(X_train)\n",
        "X_test = sc.fit_transform(X_test)\n",
        "\n",
        "model_1 = GaussianNB()\n",
        "model_1.fit(X_train,Y_train)\n",
        "\n",
        "Y_prediction = model_1.predict(X_test)\n",
        "\n",
        "print('accuracy',metrics.accuracy_score(Y_test, Y_prediction))"
      ],
      "execution_count": null,
      "outputs": []
    },
    {
      "cell_type": "code",
      "metadata": {
        "colab": {
          "base_uri": "https://localhost:8080/"
        },
        "id": "ThAp6GIdh04I",
        "outputId": "6e3da82b-33f4-41fe-cbbf-24235c1ca782"
      },
      "source": [
        "from sklearn.linear_model import LogisticRegression\n",
        "from sklearn import metrics\n",
        "from sklearn.preprocessing import StandardScaler\n",
        "from sklearn.model_selection import train_test_split\n",
        "\n",
        "X_train_1, X_test_1, Y_train_1, Y_test_1 = train_test_split(X,Y, test_size=0.25, random_state=42)\n",
        "\n",
        "\n",
        "sc = StandardScaler()\n",
        "\n",
        "\n",
        "X_train_1 = sc.fit_transform(X_train_1)\n",
        "X_test_1 = sc.fit_transform(X_test_1)\n",
        "\n",
        "\n",
        "model_2 = LogisticRegression(random_state=0)\n",
        "model_2.fit(X_train_1,Y_train_1)\n",
        "\n",
        "Y_prediction = model_2.predict(X_test_1)\n",
        "\n",
        "print('accuracy',metrics.accuracy_score(Y_test, Y_prediction))"
      ],
      "execution_count": null,
      "outputs": [
        {
          "output_type": "stream",
          "text": [
            "accuracy 0.8116929064213692\n"
          ],
          "name": "stdout"
        }
      ]
    }
  ]
}